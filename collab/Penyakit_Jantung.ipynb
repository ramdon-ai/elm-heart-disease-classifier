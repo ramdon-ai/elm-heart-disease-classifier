{
  "nbformat": 4,
  "nbformat_minor": 0,
  "metadata": {
    "colab": {
      "provenance": []
    },
    "kernelspec": {
      "name": "python3",
      "display_name": "Python 3"
    },
    "language_info": {
      "name": "python"
    }
  },
  "cells": [
    {
      "cell_type": "code",
      "source": [
        "!pip install hpelm\n",
        "!pip install hpelm scikit-learn pandas openpyxl matplotlib"
      ],
      "metadata": {
        "colab": {
          "base_uri": "https://localhost:8080/"
        },
        "id": "WH9peZTI3M99",
        "outputId": "7991f135-c29f-4bbe-b8d7-592772bf9cec"
      },
      "execution_count": null,
      "outputs": [
        {
          "output_type": "stream",
          "name": "stdout",
          "text": [
            "Requirement already satisfied: hpelm in /usr/local/lib/python3.11/dist-packages (1.0.10)\n",
            "Requirement already satisfied: fasteners in /usr/local/lib/python3.11/dist-packages (from hpelm) (0.19)\n",
            "Requirement already satisfied: nose in /usr/local/lib/python3.11/dist-packages (from hpelm) (1.3.7)\n",
            "Requirement already satisfied: numpy in /usr/local/lib/python3.11/dist-packages (from hpelm) (2.0.2)\n",
            "Requirement already satisfied: scipy>=0.12 in /usr/local/lib/python3.11/dist-packages (from hpelm) (1.15.2)\n",
            "Requirement already satisfied: six in /usr/local/lib/python3.11/dist-packages (from hpelm) (1.17.0)\n",
            "Requirement already satisfied: tables in /usr/local/lib/python3.11/dist-packages (from hpelm) (3.10.2)\n",
            "Requirement already satisfied: numexpr>=2.6.2 in /usr/local/lib/python3.11/dist-packages (from tables->hpelm) (2.10.2)\n",
            "Requirement already satisfied: packaging in /usr/local/lib/python3.11/dist-packages (from tables->hpelm) (24.2)\n",
            "Requirement already satisfied: py-cpuinfo in /usr/local/lib/python3.11/dist-packages (from tables->hpelm) (9.0.0)\n",
            "Requirement already satisfied: blosc2>=2.3.0 in /usr/local/lib/python3.11/dist-packages (from tables->hpelm) (3.3.1)\n",
            "Requirement already satisfied: typing-extensions>=4.4.0 in /usr/local/lib/python3.11/dist-packages (from tables->hpelm) (4.13.2)\n",
            "Requirement already satisfied: ndindex in /usr/local/lib/python3.11/dist-packages (from blosc2>=2.3.0->tables->hpelm) (1.9.2)\n",
            "Requirement already satisfied: msgpack in /usr/local/lib/python3.11/dist-packages (from blosc2>=2.3.0->tables->hpelm) (1.1.0)\n",
            "Requirement already satisfied: platformdirs in /usr/local/lib/python3.11/dist-packages (from blosc2>=2.3.0->tables->hpelm) (4.3.7)\n",
            "Requirement already satisfied: requests in /usr/local/lib/python3.11/dist-packages (from blosc2>=2.3.0->tables->hpelm) (2.32.3)\n",
            "Requirement already satisfied: charset-normalizer<4,>=2 in /usr/local/lib/python3.11/dist-packages (from requests->blosc2>=2.3.0->tables->hpelm) (3.4.1)\n",
            "Requirement already satisfied: idna<4,>=2.5 in /usr/local/lib/python3.11/dist-packages (from requests->blosc2>=2.3.0->tables->hpelm) (3.10)\n",
            "Requirement already satisfied: urllib3<3,>=1.21.1 in /usr/local/lib/python3.11/dist-packages (from requests->blosc2>=2.3.0->tables->hpelm) (2.4.0)\n",
            "Requirement already satisfied: certifi>=2017.4.17 in /usr/local/lib/python3.11/dist-packages (from requests->blosc2>=2.3.0->tables->hpelm) (2025.4.26)\n",
            "Requirement already satisfied: hpelm in /usr/local/lib/python3.11/dist-packages (1.0.10)\n",
            "Requirement already satisfied: scikit-learn in /usr/local/lib/python3.11/dist-packages (1.6.1)\n",
            "Requirement already satisfied: pandas in /usr/local/lib/python3.11/dist-packages (2.2.2)\n",
            "Requirement already satisfied: openpyxl in /usr/local/lib/python3.11/dist-packages (3.1.5)\n",
            "Requirement already satisfied: matplotlib in /usr/local/lib/python3.11/dist-packages (3.10.0)\n",
            "Requirement already satisfied: fasteners in /usr/local/lib/python3.11/dist-packages (from hpelm) (0.19)\n",
            "Requirement already satisfied: nose in /usr/local/lib/python3.11/dist-packages (from hpelm) (1.3.7)\n",
            "Requirement already satisfied: numpy in /usr/local/lib/python3.11/dist-packages (from hpelm) (2.0.2)\n",
            "Requirement already satisfied: scipy>=0.12 in /usr/local/lib/python3.11/dist-packages (from hpelm) (1.15.2)\n",
            "Requirement already satisfied: six in /usr/local/lib/python3.11/dist-packages (from hpelm) (1.17.0)\n",
            "Requirement already satisfied: tables in /usr/local/lib/python3.11/dist-packages (from hpelm) (3.10.2)\n",
            "Requirement already satisfied: joblib>=1.2.0 in /usr/local/lib/python3.11/dist-packages (from scikit-learn) (1.4.2)\n",
            "Requirement already satisfied: threadpoolctl>=3.1.0 in /usr/local/lib/python3.11/dist-packages (from scikit-learn) (3.6.0)\n",
            "Requirement already satisfied: python-dateutil>=2.8.2 in /usr/local/lib/python3.11/dist-packages (from pandas) (2.9.0.post0)\n",
            "Requirement already satisfied: pytz>=2020.1 in /usr/local/lib/python3.11/dist-packages (from pandas) (2025.2)\n",
            "Requirement already satisfied: tzdata>=2022.7 in /usr/local/lib/python3.11/dist-packages (from pandas) (2025.2)\n",
            "Requirement already satisfied: et-xmlfile in /usr/local/lib/python3.11/dist-packages (from openpyxl) (2.0.0)\n",
            "Requirement already satisfied: contourpy>=1.0.1 in /usr/local/lib/python3.11/dist-packages (from matplotlib) (1.3.2)\n",
            "Requirement already satisfied: cycler>=0.10 in /usr/local/lib/python3.11/dist-packages (from matplotlib) (0.12.1)\n",
            "Requirement already satisfied: fonttools>=4.22.0 in /usr/local/lib/python3.11/dist-packages (from matplotlib) (4.57.0)\n",
            "Requirement already satisfied: kiwisolver>=1.3.1 in /usr/local/lib/python3.11/dist-packages (from matplotlib) (1.4.8)\n",
            "Requirement already satisfied: packaging>=20.0 in /usr/local/lib/python3.11/dist-packages (from matplotlib) (24.2)\n",
            "Requirement already satisfied: pillow>=8 in /usr/local/lib/python3.11/dist-packages (from matplotlib) (11.2.1)\n",
            "Requirement already satisfied: pyparsing>=2.3.1 in /usr/local/lib/python3.11/dist-packages (from matplotlib) (3.2.3)\n",
            "Requirement already satisfied: numexpr>=2.6.2 in /usr/local/lib/python3.11/dist-packages (from tables->hpelm) (2.10.2)\n",
            "Requirement already satisfied: py-cpuinfo in /usr/local/lib/python3.11/dist-packages (from tables->hpelm) (9.0.0)\n",
            "Requirement already satisfied: blosc2>=2.3.0 in /usr/local/lib/python3.11/dist-packages (from tables->hpelm) (3.3.1)\n",
            "Requirement already satisfied: typing-extensions>=4.4.0 in /usr/local/lib/python3.11/dist-packages (from tables->hpelm) (4.13.2)\n",
            "Requirement already satisfied: ndindex in /usr/local/lib/python3.11/dist-packages (from blosc2>=2.3.0->tables->hpelm) (1.9.2)\n",
            "Requirement already satisfied: msgpack in /usr/local/lib/python3.11/dist-packages (from blosc2>=2.3.0->tables->hpelm) (1.1.0)\n",
            "Requirement already satisfied: platformdirs in /usr/local/lib/python3.11/dist-packages (from blosc2>=2.3.0->tables->hpelm) (4.3.7)\n",
            "Requirement already satisfied: requests in /usr/local/lib/python3.11/dist-packages (from blosc2>=2.3.0->tables->hpelm) (2.32.3)\n",
            "Requirement already satisfied: charset-normalizer<4,>=2 in /usr/local/lib/python3.11/dist-packages (from requests->blosc2>=2.3.0->tables->hpelm) (3.4.1)\n",
            "Requirement already satisfied: idna<4,>=2.5 in /usr/local/lib/python3.11/dist-packages (from requests->blosc2>=2.3.0->tables->hpelm) (3.10)\n",
            "Requirement already satisfied: urllib3<3,>=1.21.1 in /usr/local/lib/python3.11/dist-packages (from requests->blosc2>=2.3.0->tables->hpelm) (2.4.0)\n",
            "Requirement already satisfied: certifi>=2017.4.17 in /usr/local/lib/python3.11/dist-packages (from requests->blosc2>=2.3.0->tables->hpelm) (2025.4.26)\n"
          ]
        }
      ]
    },
    {
      "cell_type": "code",
      "execution_count": null,
      "metadata": {
        "id": "zc8xo2Ri2JlH"
      },
      "outputs": [],
      "source": [
        "import pandas as pd\n",
        "from sklearn.model_selection import train_test_split\n",
        "from sklearn.preprocessing import LabelEncoder, StandardScaler, OneHotEncoder\n",
        "from sklearn.metrics import classification_report, confusion_matrix, ConfusionMatrixDisplay\n",
        "from sklearn.decomposition import PCA\n",
        "import matplotlib.pyplot as plt\n",
        "from hpelm import ELM\n",
        "import numpy as np"
      ]
    },
    {
      "cell_type": "code",
      "source": [
        "# 1. Load Data\n",
        "file_path = \"/content/Data New.xlsx\"\n",
        "df = pd.read_excel(file_path, header = 3)"
      ],
      "metadata": {
        "id": "5dPlt2Th2XnM"
      },
      "execution_count": null,
      "outputs": []
    },
    {
      "cell_type": "code",
      "source": [
        "# 2. Cek kolom\n",
        "print(df)\n",
        "\n",
        "# Misal kolomnya: ['Jenis Kelamin', 'Umur', 'Berat Badan', 'Tekanan Darah', 'Denyut Nadi', 'Frekuensi Napas', 'Jenis Nyeri Dada', 'Kelas']"
      ],
      "metadata": {
        "colab": {
          "base_uri": "https://localhost:8080/"
        },
        "id": "HSKqmz1Z2ejt",
        "outputId": "3e12d89d-6a4d-421c-c221-14f58385ff9c"
      },
      "execution_count": null,
      "outputs": [
        {
          "output_type": "stream",
          "name": "stdout",
          "text": [
            "      No  Umur  Jenis Kelamin  Nyeri Dada Saat Beraktivitas  Tekanan Darah  \\\n",
            "0      1    37              2                             3            130   \n",
            "1      2    41              1                             2            130   \n",
            "2      3    56              2                             2            120   \n",
            "3      4    57              1                             4            120   \n",
            "4      5    57              2                             4            140   \n",
            "..   ...   ...            ...                           ...            ...   \n",
            "228  229    64              2                             4            145   \n",
            "229  230    65              2                             4            136   \n",
            "230  231    76              2                             3            104   \n",
            "231  232    62              2                             4            130   \n",
            "232  233    62              2                             4            160   \n",
            "\n",
            "     Kadar Kolesterol  Gula Darah  Hasil Uji EKG  Denyut Jantung  \\\n",
            "0                 250           0              0             187   \n",
            "1                 204           0              2             172   \n",
            "2                 236           0              0             178   \n",
            "3                 354           0              0             163   \n",
            "4                 192           0              0             148   \n",
            "..                ...         ...            ...             ...   \n",
            "228               212           0              2             132   \n",
            "229               248           0              0             140   \n",
            "230               223           0              2             120   \n",
            "231               170           0              1             120   \n",
            "232               254           1              1             106   \n",
            "\n",
            "     Sakit Dada Selama Beraktivitas  Atribut Hasil Prediksi Penyakit Jantung  \\\n",
            "0                                 0                                        0   \n",
            "1                                 0                                        0   \n",
            "2                                 0                                        0   \n",
            "3                                 1                                        0   \n",
            "4                                 0                                        0   \n",
            "..                              ...                                      ...   \n",
            "228                               0                                        4   \n",
            "229                               1                                        4   \n",
            "230                               0                                        4   \n",
            "231                               1                                        4   \n",
            "232                               1                                        4   \n",
            "\n",
            "     Prediksi  \n",
            "0           0  \n",
            "1           0  \n",
            "2           0  \n",
            "3           0  \n",
            "4           0  \n",
            "..        ...  \n",
            "228         2  \n",
            "229         4  \n",
            "230         4  \n",
            "231         4  \n",
            "232         4  \n",
            "\n",
            "[233 rows x 12 columns]\n"
          ]
        }
      ]
    },
    {
      "cell_type": "code",
      "source": [
        "df['jenis_kelamin'] = df['Jenis Kelamin'].replace({1: 0, 2: 1})"
      ],
      "metadata": {
        "id": "c60731rkIU_k"
      },
      "execution_count": null,
      "outputs": []
    },
    {
      "cell_type": "code",
      "source": [
        "# 4. Feature - Target\n",
        "X = df[['Umur', 'Jenis Kelamin', 'Nyeri Dada Saat Beraktivitas', 'Tekanan Darah', 'Kadar Kolesterol', 'Gula Darah', 'Hasil Uji EKG', 'Denyut Jantung', 'Sakit Dada Selama Beraktivitas', 'Atribut Hasil Prediksi Penyakit Jantung']]\n",
        "y = df['Prediksi']"
      ],
      "metadata": {
        "id": "ZYDlate_2qxL"
      },
      "execution_count": null,
      "outputs": []
    },
    {
      "cell_type": "code",
      "source": [
        "# 5. Standardisasi\n",
        "scaler = StandardScaler()\n",
        "X = scaler.fit_transform(X)"
      ],
      "metadata": {
        "id": "mAQGkkIR2uaA"
      },
      "execution_count": null,
      "outputs": []
    },
    {
      "cell_type": "code",
      "source": [
        "# 6. Split Data\n",
        "X_train, X_test, y_train, y_test = train_test_split(X, y, test_size=0.2, random_state=42)"
      ],
      "metadata": {
        "id": "Pqh-BqEV2yb9"
      },
      "execution_count": null,
      "outputs": []
    },
    {
      "cell_type": "code",
      "source": [
        "# 7. One-hot encoding target\n",
        "onehot = OneHotEncoder(sparse_output=False)\n",
        "y_train_oh = onehot.fit_transform(y_train.values.reshape(-1, 1))"
      ],
      "metadata": {
        "id": "rW40GMCvNhTK"
      },
      "execution_count": null,
      "outputs": []
    },
    {
      "cell_type": "code",
      "source": [
        "# 8. Latih model ELM\n",
        "elm = ELM(X_train.shape[1], len(set(y)), classification=\"c\")\n",
        "elm.add_neurons(100, \"sigm\")\n",
        "elm.train(X_train, y_train_oh)"
      ],
      "metadata": {
        "id": "_xEULoUI21mN"
      },
      "execution_count": null,
      "outputs": []
    },
    {
      "cell_type": "code",
      "source": [
        "# 9. Prediksi & evaluasi\n",
        "y_pred = elm.predict(X_test).argmax(axis=1)\n",
        "print(classification_report(y_test, y_pred))"
      ],
      "metadata": {
        "id": "qT93xSwc26SD",
        "colab": {
          "base_uri": "https://localhost:8080/"
        },
        "outputId": "38202760-191f-4a67-c964-bd01cafaebdd"
      },
      "execution_count": null,
      "outputs": [
        {
          "output_type": "stream",
          "name": "stdout",
          "text": [
            "              precision    recall  f1-score   support\n",
            "\n",
            "           0       0.70      0.56      0.62        25\n",
            "           1       0.38      0.53      0.44        15\n",
            "           2       0.00      0.00      0.00         1\n",
            "           3       0.25      0.20      0.22         5\n",
            "           4       0.00      0.00      0.00         1\n",
            "\n",
            "    accuracy                           0.49        47\n",
            "   macro avg       0.27      0.26      0.26        47\n",
            "weighted avg       0.52      0.49      0.50        47\n",
            "\n"
          ]
        },
        {
          "output_type": "stream",
          "name": "stderr",
          "text": [
            "/usr/local/lib/python3.11/dist-packages/sklearn/metrics/_classification.py:1565: UndefinedMetricWarning: Precision is ill-defined and being set to 0.0 in labels with no predicted samples. Use `zero_division` parameter to control this behavior.\n",
            "  _warn_prf(average, modifier, f\"{metric.capitalize()} is\", len(result))\n",
            "/usr/local/lib/python3.11/dist-packages/sklearn/metrics/_classification.py:1565: UndefinedMetricWarning: Precision is ill-defined and being set to 0.0 in labels with no predicted samples. Use `zero_division` parameter to control this behavior.\n",
            "  _warn_prf(average, modifier, f\"{metric.capitalize()} is\", len(result))\n",
            "/usr/local/lib/python3.11/dist-packages/sklearn/metrics/_classification.py:1565: UndefinedMetricWarning: Precision is ill-defined and being set to 0.0 in labels with no predicted samples. Use `zero_division` parameter to control this behavior.\n",
            "  _warn_prf(average, modifier, f\"{metric.capitalize()} is\", len(result))\n"
          ]
        }
      ]
    },
    {
      "cell_type": "code",
      "source": [
        "# 10. Confusion Matrix\n",
        "cm = confusion_matrix(y_test, y_pred)\n",
        "disp = ConfusionMatrixDisplay(confusion_matrix=cm)\n",
        "disp.plot()\n",
        "plt.title(\"Confusion Matrix ELM\")\n",
        "plt.show()"
      ],
      "metadata": {
        "colab": {
          "base_uri": "https://localhost:8080/",
          "height": 472
        },
        "id": "4MAAQBOXJisT",
        "outputId": "b81dde81-6d9d-49a7-d2a6-1a6804e3e28d"
      },
      "execution_count": null,
      "outputs": [
        {
          "output_type": "display_data",
          "data": {
            "text/plain": [
              "<Figure size 640x480 with 2 Axes>"
            ],
            "image/png": "[encoded data removed]"
          },
          "metadata": {}
        }
      ]
    },
    {
      "cell_type": "code",
      "source": [
        "# 11. Visualisasi PCA\n",
        "pca = PCA(n_components=2)\n",
        "X_reduced = pca.fit_transform(X_test)\n",
        "plt.figure(figsize=(8, 6))\n",
        "plt.scatter(X_reduced[:, 0], X_reduced[:, 1], c=y_pred, cmap='viridis')\n",
        "plt.title(\"Visualisasi PCA Prediksi ELM\")\n",
        "plt.colorbar(label='Kelas Prediksi')\n",
        "plt.show()"
      ],
      "metadata": {
        "colab": {
          "base_uri": "https://localhost:8080/",
          "height": 545
        },
        "id": "6HbgBsNcMP2I",
        "outputId": "468c824e-b800-4037-f0cc-772d9061627c"
      },
      "execution_count": null,
      "outputs": [
        {
          "output_type": "display_data",
          "data": {
            "text/plain": [
              "<Figure size 800x600 with 2 Axes>"
            ],
            "image/png": "[encoded data removed]"
          },
          "metadata": {}
        }
      ]
    },
    {
      "cell_type": "code",
      "source": [
        "# 12. Grafik Akurasi vs Jumlah Neuron\n",
        "accuracies = []\n",
        "neuron_counts = range(10, 201, 10)\n",
        "\n",
        "for n in neuron_counts:\n",
        "    elm_loop = ELM(X_train.shape[1], len(set(y)), classification=\"c\")\n",
        "    elm_loop.add_neurons(n, \"sigm\")\n",
        "    elm_loop.train(X_train, y_train_oh)\n",
        "    y_pred_loop = elm_loop.predict(X_test).argmax(axis=1)\n",
        "    acc = (y_pred_loop == y_test).mean()\n",
        "    accuracies.append(acc)\n",
        "\n",
        "plt.plot(neuron_counts, accuracies, marker='o')\n",
        "plt.xlabel(\"Jumlah Neuron\")\n",
        "plt.ylabel(\"Akurasi\")\n",
        "plt.title(\"Pengaruh Jumlah Neuron terhadap Akurasi ELM\")\n",
        "plt.grid(True)\n",
        "plt.show()"
      ],
      "metadata": {
        "colab": {
          "base_uri": "https://localhost:8080/",
          "height": 541
        },
        "id": "Im5ZAKFXMTV0",
        "outputId": "013d9719-32fd-4d81-d514-fcdccdf48880"
      },
      "execution_count": null,
      "outputs": [
        {
          "output_type": "stream",
          "name": "stdout",
          "text": [
            "Covariance matrix is not full rank; solving with SVD (slow)\n",
            "This happened because you have duplicated or too many neurons\n",
            "Covariance matrix is not full rank; solving with SVD (slow)\n",
            "This happened because you have duplicated or too many neurons\n"
          ]
        },
        {
          "output_type": "display_data",
          "data": {
            "text/plain": [
              "<Figure size 640x480 with 1 Axes>"
            ],
            "image/png": "[encoded data removed]"
          },
          "metadata": {}
        }
      ]
    },
    {
      "cell_type": "markdown",
      "source": [
        "PART II"
      ],
      "metadata": {
        "id": "I5-ExvSFmzYB"
      }
    },
    {
      "cell_type": "code",
      "source": [
        "# install library\n",
        "!pip install hpelm\n",
        "!pip install hpelm scikit-learn pandas openpyxl matplotlib\n",
        "!pip install numpy==1.23.5"
      ],
      "metadata": {
        "colab": {
          "base_uri": "https://localhost:8080/",
          "height": 1000
        },
        "id": "roW2nFqCr9CB",
        "outputId": "4a1dd7b6-0e3b-42f8-cfe9-727d74a57cf8"
      },
      "execution_count": null,
      "outputs": [
        {
          "output_type": "stream",
          "name": "stdout",
          "text": [
            "Requirement already satisfied: hpelm in /usr/local/lib/python3.11/dist-packages (1.0.10)\n",
            "Requirement already satisfied: fasteners in /usr/local/lib/python3.11/dist-packages (from hpelm) (0.19)\n",
            "Requirement already satisfied: nose in /usr/local/lib/python3.11/dist-packages (from hpelm) (1.3.7)\n",
            "Requirement already satisfied: numpy in /usr/local/lib/python3.11/dist-packages (from hpelm) (2.0.2)\n",
            "Requirement already satisfied: scipy>=0.12 in /usr/local/lib/python3.11/dist-packages (from hpelm) (1.15.2)\n",
            "Requirement already satisfied: six in /usr/local/lib/python3.11/dist-packages (from hpelm) (1.17.0)\n",
            "Requirement already satisfied: tables in /usr/local/lib/python3.11/dist-packages (from hpelm) (3.10.2)\n",
            "Requirement already satisfied: numexpr>=2.6.2 in /usr/local/lib/python3.11/dist-packages (from tables->hpelm) (2.10.2)\n",
            "Requirement already satisfied: packaging in /usr/local/lib/python3.11/dist-packages (from tables->hpelm) (24.2)\n",
            "Requirement already satisfied: py-cpuinfo in /usr/local/lib/python3.11/dist-packages (from tables->hpelm) (9.0.0)\n",
            "Requirement already satisfied: blosc2>=2.3.0 in /usr/local/lib/python3.11/dist-packages (from tables->hpelm) (3.3.2)\n",
            "Requirement already satisfied: typing-extensions>=4.4.0 in /usr/local/lib/python3.11/dist-packages (from tables->hpelm) (4.13.2)\n",
            "Requirement already satisfied: ndindex in /usr/local/lib/python3.11/dist-packages (from blosc2>=2.3.0->tables->hpelm) (1.9.2)\n",
            "Requirement already satisfied: msgpack in /usr/local/lib/python3.11/dist-packages (from blosc2>=2.3.0->tables->hpelm) (1.1.0)\n",
            "Requirement already satisfied: platformdirs in /usr/local/lib/python3.11/dist-packages (from blosc2>=2.3.0->tables->hpelm) (4.3.7)\n",
            "Requirement already satisfied: requests in /usr/local/lib/python3.11/dist-packages (from blosc2>=2.3.0->tables->hpelm) (2.32.3)\n",
            "Requirement already satisfied: charset-normalizer<4,>=2 in /usr/local/lib/python3.11/dist-packages (from requests->blosc2>=2.3.0->tables->hpelm) (3.4.1)\n",
            "Requirement already satisfied: idna<4,>=2.5 in /usr/local/lib/python3.11/dist-packages (from requests->blosc2>=2.3.0->tables->hpelm) (3.10)\n",
            "Requirement already satisfied: urllib3<3,>=1.21.1 in /usr/local/lib/python3.11/dist-packages (from requests->blosc2>=2.3.0->tables->hpelm) (2.4.0)\n",
            "Requirement already satisfied: certifi>=2017.4.17 in /usr/local/lib/python3.11/dist-packages (from requests->blosc2>=2.3.0->tables->hpelm) (2025.4.26)\n",
            "Requirement already satisfied: hpelm in /usr/local/lib/python3.11/dist-packages (1.0.10)\n",
            "Requirement already satisfied: scikit-learn in /usr/local/lib/python3.11/dist-packages (1.6.1)\n",
            "Requirement already satisfied: pandas in /usr/local/lib/python3.11/dist-packages (2.2.2)\n",
            "Requirement already satisfied: openpyxl in /usr/local/lib/python3.11/dist-packages (3.1.5)\n",
            "Requirement already satisfied: matplotlib in /usr/local/lib/python3.11/dist-packages (3.10.0)\n",
            "Requirement already satisfied: fasteners in /usr/local/lib/python3.11/dist-packages (from hpelm) (0.19)\n",
            "Requirement already satisfied: nose in /usr/local/lib/python3.11/dist-packages (from hpelm) (1.3.7)\n",
            "Requirement already satisfied: numpy in /usr/local/lib/python3.11/dist-packages (from hpelm) (2.0.2)\n",
            "Requirement already satisfied: scipy>=0.12 in /usr/local/lib/python3.11/dist-packages (from hpelm) (1.15.2)\n",
            "Requirement already satisfied: six in /usr/local/lib/python3.11/dist-packages (from hpelm) (1.17.0)\n",
            "Requirement already satisfied: tables in /usr/local/lib/python3.11/dist-packages (from hpelm) (3.10.2)\n",
            "Requirement already satisfied: joblib>=1.2.0 in /usr/local/lib/python3.11/dist-packages (from scikit-learn) (1.4.2)\n",
            "Requirement already satisfied: threadpoolctl>=3.1.0 in /usr/local/lib/python3.11/dist-packages (from scikit-learn) (3.6.0)\n",
            "Requirement already satisfied: python-dateutil>=2.8.2 in /usr/local/lib/python3.11/dist-packages (from pandas) (2.9.0.post0)\n",
            "Requirement already satisfied: pytz>=2020.1 in /usr/local/lib/python3.11/dist-packages (from pandas) (2025.2)\n",
            "Requirement already satisfied: tzdata>=2022.7 in /usr/local/lib/python3.11/dist-packages (from pandas) (2025.2)\n",
            "Requirement already satisfied: et-xmlfile in /usr/local/lib/python3.11/dist-packages (from openpyxl) (2.0.0)\n",
            "Requirement already satisfied: contourpy>=1.0.1 in /usr/local/lib/python3.11/dist-packages (from matplotlib) (1.3.2)\n",
            "Requirement already satisfied: cycler>=0.10 in /usr/local/lib/python3.11/dist-packages (from matplotlib) (0.12.1)\n",
            "Requirement already satisfied: fonttools>=4.22.0 in /usr/local/lib/python3.11/dist-packages (from matplotlib) (4.57.0)\n",
            "Requirement already satisfied: kiwisolver>=1.3.1 in /usr/local/lib/python3.11/dist-packages (from matplotlib) (1.4.8)\n",
            "Requirement already satisfied: packaging>=20.0 in /usr/local/lib/python3.11/dist-packages (from matplotlib) (24.2)\n",
            "Requirement already satisfied: pillow>=8 in /usr/local/lib/python3.11/dist-packages (from matplotlib) (11.2.1)\n",
            "Requirement already satisfied: pyparsing>=2.3.1 in /usr/local/lib/python3.11/dist-packages (from matplotlib) (3.2.3)\n",
            "Requirement already satisfied: numexpr>=2.6.2 in /usr/local/lib/python3.11/dist-packages (from tables->hpelm) (2.10.2)\n",
            "Requirement already satisfied: py-cpuinfo in /usr/local/lib/python3.11/dist-packages (from tables->hpelm) (9.0.0)\n",
            "Requirement already satisfied: blosc2>=2.3.0 in /usr/local/lib/python3.11/dist-packages (from tables->hpelm) (3.3.2)\n",
            "Requirement already satisfied: typing-extensions>=4.4.0 in /usr/local/lib/python3.11/dist-packages (from tables->hpelm) (4.13.2)\n",
            "Requirement already satisfied: ndindex in /usr/local/lib/python3.11/dist-packages (from blosc2>=2.3.0->tables->hpelm) (1.9.2)\n",
            "Requirement already satisfied: msgpack in /usr/local/lib/python3.11/dist-packages (from blosc2>=2.3.0->tables->hpelm) (1.1.0)\n",
            "Requirement already satisfied: platformdirs in /usr/local/lib/python3.11/dist-packages (from blosc2>=2.3.0->tables->hpelm) (4.3.7)\n",
            "Requirement already satisfied: requests in /usr/local/lib/python3.11/dist-packages (from blosc2>=2.3.0->tables->hpelm) (2.32.3)\n",
            "Requirement already satisfied: charset-normalizer<4,>=2 in /usr/local/lib/python3.11/dist-packages (from requests->blosc2>=2.3.0->tables->hpelm) (3.4.1)\n",
            "Requirement already satisfied: idna<4,>=2.5 in /usr/local/lib/python3.11/dist-packages (from requests->blosc2>=2.3.0->tables->hpelm) (3.10)\n",
            "Requirement already satisfied: urllib3<3,>=1.21.1 in /usr/local/lib/python3.11/dist-packages (from requests->blosc2>=2.3.0->tables->hpelm) (2.4.0)\n",
            "Requirement already satisfied: certifi>=2017.4.17 in /usr/local/lib/python3.11/dist-packages (from requests->blosc2>=2.3.0->tables->hpelm) (2025.4.26)\n",
            "Collecting numpy==1.23.5\n",
            "  Downloading numpy-1.23.5-cp311-cp311-manylinux_2_17_x86_64.manylinux2014_x86_64.whl.metadata (2.3 kB)\n",
            "Downloading numpy-1.23.5-cp311-cp311-manylinux_2_17_x86_64.manylinux2014_x86_64.whl (17.1 MB)\n",
            "\u001b[2K   \u001b[90m━━━━━━━━━━━━━━━━━━━━━━━━━━━━━━━━━━━━━━━━\u001b[0m \u001b[32m17.1/17.1 MB\u001b[0m \u001b[31m88.3 MB/s\u001b[0m eta \u001b[36m0:00:00\u001b[0m\n",
            "\u001b[?25hInstalling collected packages: numpy\n",
            "  Attempting uninstall: numpy\n",
            "    Found existing installation: numpy 2.0.2\n",
            "    Uninstalling numpy-2.0.2:\n",
            "      Successfully uninstalled numpy-2.0.2\n",
            "\u001b[31mERROR: pip's dependency resolver does not currently take into account all the packages that are installed. This behaviour is the source of the following dependency conflicts.\n",
            "xarray 2025.3.1 requires numpy>=1.24, but you have numpy 1.23.5 which is incompatible.\n",
            "imbalanced-learn 0.13.0 requires numpy<3,>=1.24.3, but you have numpy 1.23.5 which is incompatible.\n",
            "chex 0.1.89 requires numpy>=1.24.1, but you have numpy 1.23.5 which is incompatible.\n",
            "jaxlib 0.5.1 requires numpy>=1.25, but you have numpy 1.23.5 which is incompatible.\n",
            "scikit-image 0.25.2 requires numpy>=1.24, but you have numpy 1.23.5 which is incompatible.\n",
            "pymc 5.22.0 requires numpy>=1.25.0, but you have numpy 1.23.5 which is incompatible.\n",
            "thinc 8.3.6 requires numpy<3.0.0,>=2.0.0, but you have numpy 1.23.5 which is incompatible.\n",
            "tensorflow 2.18.0 requires numpy<2.1.0,>=1.26.0, but you have numpy 1.23.5 which is incompatible.\n",
            "treescope 0.1.9 requires numpy>=1.25.2, but you have numpy 1.23.5 which is incompatible.\n",
            "albumentations 2.0.6 requires numpy>=1.24.4, but you have numpy 1.23.5 which is incompatible.\n",
            "blosc2 3.3.2 requires numpy>=1.26, but you have numpy 1.23.5 which is incompatible.\n",
            "jax 0.5.2 requires numpy>=1.25, but you have numpy 1.23.5 which is incompatible.\n",
            "bigframes 2.1.0 requires numpy>=1.24.0, but you have numpy 1.23.5 which is incompatible.\n",
            "albucore 0.0.24 requires numpy>=1.24.4, but you have numpy 1.23.5 which is incompatible.\u001b[0m\u001b[31m\n",
            "\u001b[0mSuccessfully installed numpy-1.23.5\n"
          ]
        },
        {
          "output_type": "display_data",
          "data": {
            "application/vnd.colab-display-data+json": {
              "pip_warning": {
                "packages": [
                  "numpy"
                ]
              },
              "id": "ac6108f04ccb410e93ed63ceffb48c66"
            }
          },
          "metadata": {}
        }
      ]
    },
    {
      "cell_type": "code",
      "source": [
        "import pandas as pd\n",
        "import numpy as np\n",
        "from sklearn.preprocessing import LabelEncoder, StandardScaler, OneHotEncoder\n",
        "from sklearn.model_selection import train_test_split\n",
        "from sklearn.metrics import classification_report, accuracy_score\n",
        "from hpelm import ELM\n",
        "import joblib"
      ],
      "metadata": {
        "id": "CrO9vyjmOwvm"
      },
      "execution_count": null,
      "outputs": []
    },
    {
      "cell_type": "code",
      "source": [
        "# 1. Load & preprocess data\n",
        "file_path = \"/content/Data New.xlsx\"\n",
        "df = pd.read_excel(file_path, header = 3).dropna()"
      ],
      "metadata": {
        "id": "mH_657h7nYqf"
      },
      "execution_count": null,
      "outputs": []
    },
    {
      "cell_type": "code",
      "source": [
        "# Rename kolom sesuai kebutuhan...\n",
        "df.columns = [\n",
        "    \"No\",\"Umur\",\"Jenis Kelamin\",\"Nyeri Dada\",\"Tekanan Darah\",\"Kolesterol\",\n",
        "    \"Gula Darah\",\"Hasil EKG\",\"Detak Jantung\", \"Sakit Dada Selama Beraktivitas\",\n",
        "    \"Atribut Hasil Prediksi Penyakit Jantung\", \"Hasil\"\n",
        "]"
      ],
      "metadata": {
        "id": "gaerKC7BciX2"
      },
      "execution_count": null,
      "outputs": []
    },
    {
      "cell_type": "code",
      "source": [
        "# 2. Cek kolom\n",
        "print(df)"
      ],
      "metadata": {
        "colab": {
          "base_uri": "https://localhost:8080/"
        },
        "id": "tZ6yLK62naYr",
        "outputId": "3d538e50-ad5b-4a00-8560-9487cb16d348"
      },
      "execution_count": null,
      "outputs": [
        {
          "output_type": "stream",
          "name": "stdout",
          "text": [
            "      No  Umur  Jenis Kelamin  Nyeri Dada  Tekanan Darah  Kolesterol  \\\n",
            "0      1    37              2           3            130         250   \n",
            "1      2    41              1           2            130         204   \n",
            "2      3    56              2           2            120         236   \n",
            "3      4    57              1           4            120         354   \n",
            "4      5    57              2           4            140         192   \n",
            "..   ...   ...            ...         ...            ...         ...   \n",
            "228  229    64              2           4            145         212   \n",
            "229  230    65              2           4            136         248   \n",
            "230  231    76              2           3            104         223   \n",
            "231  232    62              2           4            130         170   \n",
            "232  233    62              2           4            160         254   \n",
            "\n",
            "     Gula Darah  Hasil EKG  Detak Jantung  Sakit Dada Selama Beraktivitas  \\\n",
            "0             0          0            187                               0   \n",
            "1             0          2            172                               0   \n",
            "2             0          0            178                               0   \n",
            "3             0          0            163                               1   \n",
            "4             0          0            148                               0   \n",
            "..          ...        ...            ...                             ...   \n",
            "228           0          2            132                               0   \n",
            "229           0          0            140                               1   \n",
            "230           0          2            120                               0   \n",
            "231           0          1            120                               1   \n",
            "232           1          1            106                               1   \n",
            "\n",
            "     Atribut Hasil Prediksi Penyakit Jantung  Hasil  \n",
            "0                                          0      0  \n",
            "1                                          0      0  \n",
            "2                                          0      0  \n",
            "3                                          0      0  \n",
            "4                                          0      0  \n",
            "..                                       ...    ...  \n",
            "228                                        4      2  \n",
            "229                                        4      4  \n",
            "230                                        4      4  \n",
            "231                                        4      4  \n",
            "232                                        4      4  \n",
            "\n",
            "[233 rows x 12 columns]\n"
          ]
        }
      ]
    },
    {
      "cell_type": "code",
      "source": [
        "# 3. Buang kolom 'No' karena bukan fitur prediktif\n",
        "df = df.drop(columns=[\"No\"])"
      ],
      "metadata": {
        "id": "e0suDCiOw-rB"
      },
      "execution_count": null,
      "outputs": []
    },
    {
      "cell_type": "code",
      "source": [
        "print(df)"
      ],
      "metadata": {
        "colab": {
          "base_uri": "https://localhost:8080/"
        },
        "id": "NG32-oDgdieJ",
        "outputId": "a306352f-f32b-4b83-e30a-5b95a9d8fc3e"
      },
      "execution_count": null,
      "outputs": [
        {
          "output_type": "stream",
          "name": "stdout",
          "text": [
            "     Umur  Jenis Kelamin  Nyeri Dada  Tekanan Darah  Kolesterol  Gula Darah  \\\n",
            "0      37              2           3            130         250           0   \n",
            "1      41              1           2            130         204           0   \n",
            "2      56              2           2            120         236           0   \n",
            "3      57              1           4            120         354           0   \n",
            "4      57              2           4            140         192           0   \n",
            "..    ...            ...         ...            ...         ...         ...   \n",
            "228    64              2           4            145         212           0   \n",
            "229    65              2           4            136         248           0   \n",
            "230    76              2           3            104         223           0   \n",
            "231    62              2           4            130         170           0   \n",
            "232    62              2           4            160         254           1   \n",
            "\n",
            "     Hasil EKG  Detak Jantung  Sakit Dada Selama Beraktivitas  \\\n",
            "0            0            187                               0   \n",
            "1            2            172                               0   \n",
            "2            0            178                               0   \n",
            "3            0            163                               1   \n",
            "4            0            148                               0   \n",
            "..         ...            ...                             ...   \n",
            "228          2            132                               0   \n",
            "229          0            140                               1   \n",
            "230          2            120                               0   \n",
            "231          1            120                               1   \n",
            "232          1            106                               1   \n",
            "\n",
            "     Atribut Hasil Prediksi Penyakit Jantung  Hasil  \n",
            "0                                          0      0  \n",
            "1                                          0      0  \n",
            "2                                          0      0  \n",
            "3                                          0      0  \n",
            "4                                          0      0  \n",
            "..                                       ...    ...  \n",
            "228                                        4      2  \n",
            "229                                        4      4  \n",
            "230                                        4      4  \n",
            "231                                        4      4  \n",
            "232                                        4      4  \n",
            "\n",
            "[233 rows x 11 columns]\n"
          ]
        }
      ]
    },
    {
      "cell_type": "code",
      "source": [
        "# 3. Preprocess data\n",
        "df['Jenis Kelamin'] = df['Jenis Kelamin'].replace({1: 0, 2: 1})"
      ],
      "metadata": {
        "id": "mr5GGosCpHdU"
      },
      "execution_count": null,
      "outputs": []
    },
    {
      "cell_type": "code",
      "source": [
        "# 4. Fitur & target\n",
        "X = df.drop(columns=[\"Hasil\"])\n",
        "y = df[\"Hasil\"]"
      ],
      "metadata": {
        "id": "pTEml_nupga9"
      },
      "execution_count": null,
      "outputs": []
    },
    {
      "cell_type": "code",
      "source": [
        "# 5. Jika target bukan numerik, encode ke angka\n",
        "if y.dtype == object:\n",
        "    label_encoder = LabelEncoder()\n",
        "    y = label_encoder.fit_transform(y)\n",
        "    joblib.dump(label_encoder, \"label_encoder.pkl\")  # Optional: Simpan label encoder jika dibutuhkan nanti"
      ],
      "metadata": {
        "id": "5HOi2Qyl4Jef"
      },
      "execution_count": null,
      "outputs": []
    },
    {
      "cell_type": "code",
      "source": [
        "# 6. Split data (hindari data leakage)\n",
        "X_train, X_test, y_train, y_test = train_test_split(X, y, test_size=0.3, random_state=42)"
      ],
      "metadata": {
        "id": "FCGUdnvUqSHc"
      },
      "execution_count": null,
      "outputs": []
    },
    {
      "cell_type": "code",
      "source": [
        "# 7. Standarisasi fitur\n",
        "scaler = StandardScaler().fit(X_train)\n",
        "X_train_scaled = scaler.transform(X_train)\n",
        "X_test_scaled = scaler.transform(X_test)"
      ],
      "metadata": {
        "id": "jf4gGUTvpivi"
      },
      "execution_count": null,
      "outputs": []
    },
    {
      "cell_type": "code",
      "source": [
        "# 8. One-hot encode target untuk ELM\n",
        "encoder = OneHotEncoder(sparse_output=False)\n",
        "y_train_encoded = encoder.fit_transform(y_train.values.reshape(-1, 1))"
      ],
      "metadata": {
        "id": "DM-6sdLFxihS"
      },
      "execution_count": null,
      "outputs": []
    },
    {
      "cell_type": "code",
      "source": [
        "# 9. Buat dan latih model ELM\n",
        "elm = ELM(X_train_scaled.shape[1], y_train_encoded.shape[1], classification=\"c\")\n",
        "elm.add_neurons(100, \"sigm\")  # Jumlah neuron tersembunyi & fungsi aktivasi\n",
        "elm.train(X_train_scaled, y_train_encoded)"
      ],
      "metadata": {
        "id": "NBHBgb_kxl-5"
      },
      "execution_count": null,
      "outputs": []
    },
    {
      "cell_type": "code",
      "source": [
        "# 10. Prediksi dan evaluasi\n",
        "y_pred = elm.predict(X_test_scaled).argmax(axis=1)\n",
        "\n",
        "print(\"Akurasi:\", accuracy_score(y_test, y_pred))\n",
        "print(\"\\nLaporan klasifikasi:\")\n",
        "print(classification_report(y_test, y_pred))"
      ],
      "metadata": {
        "colab": {
          "base_uri": "https://localhost:8080/"
        },
        "id": "aXZmZeDTxm4U",
        "outputId": "23f7ac82-5b43-4cbc-c4c0-b964735f1528"
      },
      "execution_count": null,
      "outputs": [
        {
          "output_type": "stream",
          "name": "stdout",
          "text": [
            "Akurasi: 0.38571428571428573\n",
            "\n",
            "Laporan klasifikasi:\n",
            "              precision    recall  f1-score   support\n",
            "\n",
            "           0       0.61      0.61      0.61        38\n",
            "           1       0.22      0.18      0.20        22\n",
            "           2       0.00      0.00      0.00         1\n",
            "           3       0.00      0.00      0.00         7\n",
            "           4       0.00      0.00      0.00         2\n",
            "\n",
            "    accuracy                           0.39        70\n",
            "   macro avg       0.17      0.16      0.16        70\n",
            "weighted avg       0.40      0.39      0.39        70\n",
            "\n"
          ]
        }
      ]
    },
    {
      "cell_type": "code",
      "source": [
        "# 11. Simpan model, scaler, encoder\n",
        "elm.save(\"elm_model.h5\") # Save model using elm.save()\n",
        "joblib.dump(scaler, \"scaler.pkl\")\n",
        "joblib.dump(encoder, \"encoder.pkl\")"
      ],
      "metadata": {
        "colab": {
          "base_uri": "https://localhost:8080/"
        },
        "id": "3gC5jkN47zpl",
        "outputId": "13cd8129-f5e8-4ea1-c77d-2bf4ff14dd3d"
      },
      "execution_count": null,
      "outputs": [
        {
          "output_type": "execute_result",
          "data": {
            "text/plain": [
              "['encoder.pkl']"
            ]
          },
          "metadata": {},
          "execution_count": 36
        }
      ]
    },
    {
      "cell_type": "code",
      "source": [
        "# 8. Cetak versi modul\n",
        "import sklearn\n",
        "import sys\n",
        "print(\"\\nModel & tools disimpan.\")\n",
        "print(\"Versi numpy:\", np.__version__)\n",
        "print(\"Versi scikit-learn:\", sklearn.__version__)\n",
        "print(\"Versi joblib:\", joblib.__version__)\n",
        "print(\"Versi Python:\", sys.version)"
      ],
      "metadata": {
        "colab": {
          "base_uri": "https://localhost:8080/"
        },
        "id": "H28BfnDBXEoY",
        "outputId": "eda705f9-a506-4429-9dee-6d9ee0edbe23"
      },
      "execution_count": null,
      "outputs": [
        {
          "output_type": "stream",
          "name": "stdout",
          "text": [
            "\n",
            "Model & tools disimpan.\n",
            "Versi numpy: 1.23.5\n",
            "Versi scikit-learn: 1.6.1\n",
            "Versi joblib: 1.4.2\n",
            "Versi Python: 3.11.12 (main, Apr  9 2025, 08:55:54) [GCC 11.4.0]\n"
          ]
        }
      ]
    },
    {
      "cell_type": "code",
      "source": [],
      "metadata": {
        "id": "7wb8K_-JXTJz"
      },
      "execution_count": null,
      "outputs": []
    }
  ]
}