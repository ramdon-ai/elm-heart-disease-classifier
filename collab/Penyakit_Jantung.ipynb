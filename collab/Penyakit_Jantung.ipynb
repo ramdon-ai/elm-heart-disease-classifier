{
  "nbformat": 4,
  "nbformat_minor": 0,
  "metadata": {
    "colab": {
      "provenance": []
    },
    "kernelspec": {
      "name": "python3",
      "display_name": "Python 3"
    },
    "language_info": {
      "name": "python"
    }
  },
  "cells": [
    {
      "cell_type": "markdown",
      "source": [
        "#Install Library"
      ],
      "metadata": {
        "id": "AHt74k0u5ZE5"
      }
    },
    {
      "cell_type": "markdown",
      "source": [
        "Install library yang dibutuhkan"
      ],
      "metadata": {
        "id": "TnsQvly-59Gc"
      }
    },
    {
      "cell_type": "code",
      "source": [
        "!pip install hpelm scikit-learn pandas openpyxl matplotlib\n",
        "!pip install numpy==1.23.5"
      ],
      "metadata": {
        "colab": {
          "base_uri": "https://localhost:8080/",
          "height": 1000
        },
        "id": "roW2nFqCr9CB",
        "outputId": "25da7a68-a0c0-444e-e9e9-11993393dad5"
      },
      "execution_count": 1,
      "outputs": [
        {
          "output_type": "stream",
          "name": "stdout",
          "text": [
            "Collecting hpelm\n",
            "  Downloading hpelm-1.0.10-py3-none-any.whl.metadata (2.9 kB)\n",
            "Requirement already satisfied: scikit-learn in /usr/local/lib/python3.11/dist-packages (1.6.1)\n",
            "Requirement already satisfied: pandas in /usr/local/lib/python3.11/dist-packages (2.2.2)\n",
            "Requirement already satisfied: openpyxl in /usr/local/lib/python3.11/dist-packages (3.1.5)\n",
            "Requirement already satisfied: matplotlib in /usr/local/lib/python3.11/dist-packages (3.10.0)\n",
            "Collecting fasteners (from hpelm)\n",
            "  Downloading fasteners-0.19-py3-none-any.whl.metadata (4.9 kB)\n",
            "Collecting nose (from hpelm)\n",
            "  Downloading nose-1.3.7-py3-none-any.whl.metadata (1.7 kB)\n",
            "Requirement already satisfied: numpy in /usr/local/lib/python3.11/dist-packages (from hpelm) (2.0.2)\n",
            "Requirement already satisfied: scipy>=0.12 in /usr/local/lib/python3.11/dist-packages (from hpelm) (1.15.2)\n",
            "Requirement already satisfied: six in /usr/local/lib/python3.11/dist-packages (from hpelm) (1.17.0)\n",
            "Requirement already satisfied: tables in /usr/local/lib/python3.11/dist-packages (from hpelm) (3.10.2)\n",
            "Requirement already satisfied: joblib>=1.2.0 in /usr/local/lib/python3.11/dist-packages (from scikit-learn) (1.4.2)\n",
            "Requirement already satisfied: threadpoolctl>=3.1.0 in /usr/local/lib/python3.11/dist-packages (from scikit-learn) (3.6.0)\n",
            "Requirement already satisfied: python-dateutil>=2.8.2 in /usr/local/lib/python3.11/dist-packages (from pandas) (2.9.0.post0)\n",
            "Requirement already satisfied: pytz>=2020.1 in /usr/local/lib/python3.11/dist-packages (from pandas) (2025.2)\n",
            "Requirement already satisfied: tzdata>=2022.7 in /usr/local/lib/python3.11/dist-packages (from pandas) (2025.2)\n",
            "Requirement already satisfied: et-xmlfile in /usr/local/lib/python3.11/dist-packages (from openpyxl) (2.0.0)\n",
            "Requirement already satisfied: contourpy>=1.0.1 in /usr/local/lib/python3.11/dist-packages (from matplotlib) (1.3.2)\n",
            "Requirement already satisfied: cycler>=0.10 in /usr/local/lib/python3.11/dist-packages (from matplotlib) (0.12.1)\n",
            "Requirement already satisfied: fonttools>=4.22.0 in /usr/local/lib/python3.11/dist-packages (from matplotlib) (4.57.0)\n",
            "Requirement already satisfied: kiwisolver>=1.3.1 in /usr/local/lib/python3.11/dist-packages (from matplotlib) (1.4.8)\n",
            "Requirement already satisfied: packaging>=20.0 in /usr/local/lib/python3.11/dist-packages (from matplotlib) (24.2)\n",
            "Requirement already satisfied: pillow>=8 in /usr/local/lib/python3.11/dist-packages (from matplotlib) (11.2.1)\n",
            "Requirement already satisfied: pyparsing>=2.3.1 in /usr/local/lib/python3.11/dist-packages (from matplotlib) (3.2.3)\n",
            "Requirement already satisfied: numexpr>=2.6.2 in /usr/local/lib/python3.11/dist-packages (from tables->hpelm) (2.10.2)\n",
            "Requirement already satisfied: py-cpuinfo in /usr/local/lib/python3.11/dist-packages (from tables->hpelm) (9.0.0)\n",
            "Requirement already satisfied: blosc2>=2.3.0 in /usr/local/lib/python3.11/dist-packages (from tables->hpelm) (3.3.2)\n",
            "Requirement already satisfied: typing-extensions>=4.4.0 in /usr/local/lib/python3.11/dist-packages (from tables->hpelm) (4.13.2)\n",
            "Requirement already satisfied: ndindex in /usr/local/lib/python3.11/dist-packages (from blosc2>=2.3.0->tables->hpelm) (1.9.2)\n",
            "Requirement already satisfied: msgpack in /usr/local/lib/python3.11/dist-packages (from blosc2>=2.3.0->tables->hpelm) (1.1.0)\n",
            "Requirement already satisfied: platformdirs in /usr/local/lib/python3.11/dist-packages (from blosc2>=2.3.0->tables->hpelm) (4.3.7)\n",
            "Requirement already satisfied: requests in /usr/local/lib/python3.11/dist-packages (from blosc2>=2.3.0->tables->hpelm) (2.32.3)\n",
            "Requirement already satisfied: charset-normalizer<4,>=2 in /usr/local/lib/python3.11/dist-packages (from requests->blosc2>=2.3.0->tables->hpelm) (3.4.1)\n",
            "Requirement already satisfied: idna<4,>=2.5 in /usr/local/lib/python3.11/dist-packages (from requests->blosc2>=2.3.0->tables->hpelm) (3.10)\n",
            "Requirement already satisfied: urllib3<3,>=1.21.1 in /usr/local/lib/python3.11/dist-packages (from requests->blosc2>=2.3.0->tables->hpelm) (2.4.0)\n",
            "Requirement already satisfied: certifi>=2017.4.17 in /usr/local/lib/python3.11/dist-packages (from requests->blosc2>=2.3.0->tables->hpelm) (2025.4.26)\n",
            "Downloading hpelm-1.0.10-py3-none-any.whl (50 kB)\n",
            "\u001b[2K   \u001b[90m━━━━━━━━━━━━━━━━━━━━━━━━━━━━━━━━━━━━━━━━\u001b[0m \u001b[32m50.0/50.0 kB\u001b[0m \u001b[31m654.2 kB/s\u001b[0m eta \u001b[36m0:00:00\u001b[0m\n",
            "\u001b[?25hDownloading fasteners-0.19-py3-none-any.whl (18 kB)\n",
            "Downloading nose-1.3.7-py3-none-any.whl (154 kB)\n",
            "\u001b[2K   \u001b[90m━━━━━━━━━━━━━━━━━━━━━━━━━━━━━━━━━━━━━━━━\u001b[0m \u001b[32m154.7/154.7 kB\u001b[0m \u001b[31m11.5 MB/s\u001b[0m eta \u001b[36m0:00:00\u001b[0m\n",
            "\u001b[?25hInstalling collected packages: nose, fasteners, hpelm\n",
            "Successfully installed fasteners-0.19 hpelm-1.0.10 nose-1.3.7\n",
            "Collecting numpy==1.23.5\n",
            "  Downloading numpy-1.23.5-cp311-cp311-manylinux_2_17_x86_64.manylinux2014_x86_64.whl.metadata (2.3 kB)\n",
            "Downloading numpy-1.23.5-cp311-cp311-manylinux_2_17_x86_64.manylinux2014_x86_64.whl (17.1 MB)\n",
            "\u001b[2K   \u001b[90m━━━━━━━━━━━━━━━━━━━━━━━━━━━━━━━━━━━━━━━━\u001b[0m \u001b[32m17.1/17.1 MB\u001b[0m \u001b[31m61.9 MB/s\u001b[0m eta \u001b[36m0:00:00\u001b[0m\n",
            "\u001b[?25hInstalling collected packages: numpy\n",
            "  Attempting uninstall: numpy\n",
            "    Found existing installation: numpy 2.0.2\n",
            "    Uninstalling numpy-2.0.2:\n",
            "      Successfully uninstalled numpy-2.0.2\n",
            "\u001b[31mERROR: pip's dependency resolver does not currently take into account all the packages that are installed. This behaviour is the source of the following dependency conflicts.\n",
            "imbalanced-learn 0.13.0 requires numpy<3,>=1.24.3, but you have numpy 1.23.5 which is incompatible.\n",
            "scikit-image 0.25.2 requires numpy>=1.24, but you have numpy 1.23.5 which is incompatible.\n",
            "thinc 8.3.6 requires numpy<3.0.0,>=2.0.0, but you have numpy 1.23.5 which is incompatible.\n",
            "albumentations 2.0.6 requires numpy>=1.24.4, but you have numpy 1.23.5 which is incompatible.\n",
            "xarray 2025.3.1 requires numpy>=1.24, but you have numpy 1.23.5 which is incompatible.\n",
            "tensorflow 2.18.0 requires numpy<2.1.0,>=1.26.0, but you have numpy 1.23.5 which is incompatible.\n",
            "albucore 0.0.24 requires numpy>=1.24.4, but you have numpy 1.23.5 which is incompatible.\n",
            "jaxlib 0.5.1 requires numpy>=1.25, but you have numpy 1.23.5 which is incompatible.\n",
            "blosc2 3.3.2 requires numpy>=1.26, but you have numpy 1.23.5 which is incompatible.\n",
            "chex 0.1.89 requires numpy>=1.24.1, but you have numpy 1.23.5 which is incompatible.\n",
            "treescope 0.1.9 requires numpy>=1.25.2, but you have numpy 1.23.5 which is incompatible.\n",
            "pymc 5.22.0 requires numpy>=1.25.0, but you have numpy 1.23.5 which is incompatible.\n",
            "bigframes 2.1.0 requires numpy>=1.24.0, but you have numpy 1.23.5 which is incompatible.\n",
            "jax 0.5.2 requires numpy>=1.25, but you have numpy 1.23.5 which is incompatible.\u001b[0m\u001b[31m\n",
            "\u001b[0mSuccessfully installed numpy-1.23.5\n"
          ]
        },
        {
          "output_type": "display_data",
          "data": {
            "application/vnd.colab-display-data+json": {
              "pip_warning": {
                "packages": [
                  "numpy"
                ]
              },
              "id": "1142ecf3d45d4d4b956857d569ea3254"
            }
          },
          "metadata": {}
        }
      ]
    },
    {
      "cell_type": "markdown",
      "source": [
        "Import library yang akan digunakan"
      ],
      "metadata": {
        "id": "uZjlLxSq6DzF"
      }
    },
    {
      "cell_type": "code",
      "source": [
        "import pandas as pd\n",
        "import numpy as np\n",
        "from sklearn.preprocessing import LabelEncoder, StandardScaler, OneHotEncoder\n",
        "from sklearn.model_selection import train_test_split\n",
        "from sklearn.metrics import classification_report, accuracy_score\n",
        "from hpelm import ELM\n",
        "import joblib"
      ],
      "metadata": {
        "id": "CrO9vyjmOwvm"
      },
      "execution_count": 103,
      "outputs": []
    },
    {
      "cell_type": "markdown",
      "source": [
        "#Load & Preprocessing Data"
      ],
      "metadata": {
        "id": "_OXSUzj35mgr"
      }
    },
    {
      "cell_type": "markdown",
      "source": [
        "Load data yang akan diproses"
      ],
      "metadata": {
        "id": "DxjAW5hL6O-H"
      }
    },
    {
      "cell_type": "code",
      "source": [
        "file_path = \"/content/Data big.xlsx\"  # Tentukan path file Excel yang akan dibaca\n",
        "df = pd.read_excel(file_path, header=3).dropna()  # Baca file Excel mulai dari baris ke-4 (index 3), lalu hapus baris yang mengandung nilai kosong (NaN)"
      ],
      "metadata": {
        "id": "mH_657h7nYqf"
      },
      "execution_count": 104,
      "outputs": []
    },
    {
      "cell_type": "markdown",
      "source": [
        "Ubah nama kolom agar lebih mudah diingat (opsional)"
      ],
      "metadata": {
        "id": "e4-JKK-Y6Wh7"
      }
    },
    {
      "cell_type": "code",
      "source": [
        "df.columns = [\n",
        "    \"No\",\"Umur\",\"Jenis Kelamin\",\"Nyeri Dada\",\"Tekanan Darah\",\"Kolesterol\",\n",
        "    \"Gula Darah\",\"Hasil EKG\",\"Detak Jantung\", \"Sakit Dada Selama Beraktivitas\",\n",
        "    \"Atribut Hasil Prediksi Penyakit Jantung\", \"Hasil\"]"
      ],
      "metadata": {
        "id": "gaerKC7BciX2"
      },
      "execution_count": 105,
      "outputs": []
    },
    {
      "cell_type": "markdown",
      "source": [
        "Cek kolom untuk memastikan data yang akan diproses"
      ],
      "metadata": {
        "id": "nN6aEwIi6gtY"
      }
    },
    {
      "cell_type": "code",
      "source": [
        "print(df)"
      ],
      "metadata": {
        "colab": {
          "base_uri": "https://localhost:8080/"
        },
        "id": "tZ6yLK62naYr",
        "outputId": "0a74307a-7cb7-4ae1-81a9-145abd00834b"
      },
      "execution_count": 106,
      "outputs": [
        {
          "output_type": "stream",
          "name": "stdout",
          "text": [
            "      No  Umur  Jenis Kelamin  Nyeri Dada  Tekanan Darah  Kolesterol  \\\n",
            "0      1    37              2           3            130         250   \n",
            "1      2    41              1           2            130         204   \n",
            "2      3    56              2           2            120         236   \n",
            "3      4    57              1           4            120         354   \n",
            "4      5    57              2           4            140         192   \n",
            "..   ...   ...            ...         ...            ...         ...   \n",
            "438  439    59              2           1            117         185   \n",
            "439  440    51              2           3            179         220   \n",
            "440  441    55              1           1            118         180   \n",
            "441  442    16              1           1            112         180   \n",
            "442  443    60              2           2            138         215   \n",
            "\n",
            "     Gula Darah  Hasil EKG  Detak Jantung  Sakit Dada Selama Beraktivitas  \\\n",
            "0             0          0            187                               0   \n",
            "1             0          2            172                               0   \n",
            "2             0          0            178                               0   \n",
            "3             0          0            163                               1   \n",
            "4             0          0            148                               0   \n",
            "..          ...        ...            ...                             ...   \n",
            "438           0          0            105                               1   \n",
            "439           1          1             65                               3   \n",
            "440           0          0             82                               1   \n",
            "441           0          0             77                               1   \n",
            "442           1          1             71                               2   \n",
            "\n",
            "     Atribut Hasil Prediksi Penyakit Jantung  Hasil  \n",
            "0                                          0      0  \n",
            "1                                          0      0  \n",
            "2                                          0      0  \n",
            "3                                          0      0  \n",
            "4                                          0      0  \n",
            "..                                       ...    ...  \n",
            "438                                        1      1  \n",
            "439                                        2      2  \n",
            "440                                        1      1  \n",
            "441                                        1      1  \n",
            "442                                        2      2  \n",
            "\n",
            "[443 rows x 12 columns]\n"
          ]
        }
      ]
    },
    {
      "cell_type": "markdown",
      "source": [
        "Hapus kolom 'No' karena bukan termasuk data prediktif"
      ],
      "metadata": {
        "id": "vTFNZInN6wCb"
      }
    },
    {
      "cell_type": "code",
      "source": [
        "df = df.drop(columns=[\"No\"])"
      ],
      "metadata": {
        "id": "e0suDCiOw-rB"
      },
      "execution_count": 107,
      "outputs": []
    },
    {
      "cell_type": "markdown",
      "source": [
        "Ubah data 'Jenis Kelamin' kedalam bentuk biner"
      ],
      "metadata": {
        "id": "JCsONxqb7N5y"
      }
    },
    {
      "cell_type": "code",
      "source": [
        "df['Jenis Kelamin'] = df['Jenis Kelamin'].replace({1: 0, 2: 1})"
      ],
      "metadata": {
        "id": "mr5GGosCpHdU"
      },
      "execution_count": 109,
      "outputs": []
    },
    {
      "cell_type": "markdown",
      "source": [
        "Menentukan target untuk memprediksi"
      ],
      "metadata": {
        "id": "vqxwMbrS7ds1"
      }
    },
    {
      "cell_type": "code",
      "source": [
        "X = df.drop(columns=[\"Hasil\"])\n",
        "y = df[\"Hasil\"]"
      ],
      "metadata": {
        "id": "pTEml_nupga9"
      },
      "execution_count": 111,
      "outputs": []
    },
    {
      "cell_type": "markdown",
      "source": [
        "Preprocessing data jika target bukan numerik, encode ke angka"
      ],
      "metadata": {
        "id": "cBQyTetg7x88"
      }
    },
    {
      "cell_type": "code",
      "source": [
        "if y.dtype == object:\n",
        "    label_encoder = LabelEncoder()\n",
        "    y = label_encoder.fit_transform(y)\n",
        "    joblib.dump(label_encoder, \"label_encoder.pkl\")  # Optional: Simpan label encoder jika dibutuhkan nanti"
      ],
      "metadata": {
        "id": "5HOi2Qyl4Jef"
      },
      "execution_count": 112,
      "outputs": []
    },
    {
      "cell_type": "markdown",
      "source": [
        "Membagi data training 70% dan data testing 30%"
      ],
      "metadata": {
        "id": "Bl8-2Ofq8CDn"
      }
    },
    {
      "cell_type": "code",
      "source": [
        "X_train, X_test, y_train, y_test = train_test_split(X, y, test_size=0.3, random_state=42)"
      ],
      "metadata": {
        "id": "FCGUdnvUqSHc"
      },
      "execution_count": 113,
      "outputs": []
    },
    {
      "cell_type": "markdown",
      "source": [
        "Normalisasi data agar lebih optimal"
      ],
      "metadata": {
        "id": "4ObGb0ij8Sbu"
      }
    },
    {
      "cell_type": "code",
      "source": [
        "scaler = StandardScaler().fit(X_train)\n",
        "X_train_scaled = scaler.transform(X_train)\n",
        "X_test_scaled = scaler.transform(X_test)"
      ],
      "metadata": {
        "id": "jf4gGUTvpivi"
      },
      "execution_count": 114,
      "outputs": []
    },
    {
      "cell_type": "markdown",
      "source": [
        "Mengubah label target menjadi bentuk numerik biner (one-hot) agar bisa digunakan oleh model ELM untuk klasifikasi."
      ],
      "metadata": {
        "id": "3s6jN7ps87wP"
      }
    },
    {
      "cell_type": "code",
      "source": [
        "encoder = OneHotEncoder(sparse_output=False)\n",
        "y_train_encoded = encoder.fit_transform(y_train.values.reshape(-1, 1))"
      ],
      "metadata": {
        "id": "DM-6sdLFxihS"
      },
      "execution_count": 115,
      "outputs": []
    },
    {
      "cell_type": "markdown",
      "source": [
        "#Implementasi model ELM"
      ],
      "metadata": {
        "id": "EJIxlEZl9GrP"
      }
    },
    {
      "cell_type": "markdown",
      "source": [
        "Traning model ELM"
      ],
      "metadata": {
        "id": "PZMz84DY9l19"
      }
    },
    {
      "cell_type": "code",
      "source": [
        "elm = ELM(X_train_scaled.shape[1], y_train_encoded.shape[1], classification=\"c\")\n",
        "elm.add_neurons(150, \"sigm\")  # Jumlah neuron tersembunyi & fungsi aktivasi\n",
        "elm.train(X_train_scaled, y_train_encoded)"
      ],
      "metadata": {
        "id": "NBHBgb_kxl-5"
      },
      "execution_count": 116,
      "outputs": []
    },
    {
      "cell_type": "markdown",
      "source": [
        "Prediksi & evaluasi model ELM"
      ],
      "metadata": {
        "id": "SQ6GRy679Jzl"
      }
    },
    {
      "cell_type": "code",
      "source": [
        "y_pred = elm.predict(X_test_scaled).argmax(axis=1)\n",
        "\n",
        "print(\"Akurasi:\", accuracy_score(y_test, y_pred))\n",
        "print(\"\\nLaporan klasifikasi:\")\n",
        "print(classification_report(y_test, y_pred))"
      ],
      "metadata": {
        "colab": {
          "base_uri": "https://localhost:8080/"
        },
        "id": "aXZmZeDTxm4U",
        "outputId": "6707b6c8-b12c-4cc9-b898-6dd970d402ea"
      },
      "execution_count": 117,
      "outputs": [
        {
          "output_type": "stream",
          "name": "stdout",
          "text": [
            "Akurasi: 0.631578947368421\n",
            "\n",
            "Laporan klasifikasi:\n",
            "              precision    recall  f1-score   support\n",
            "\n",
            "           0       0.76      0.72      0.74        47\n",
            "           1       0.74      0.72      0.73        47\n",
            "           2       0.55      0.38      0.44        16\n",
            "           3       0.36      0.53      0.43        15\n",
            "           4       0.22      0.25      0.24         8\n",
            "\n",
            "    accuracy                           0.63       133\n",
            "   macro avg       0.53      0.52      0.52       133\n",
            "weighted avg       0.65      0.63      0.64       133\n",
            "\n"
          ]
        }
      ]
    },
    {
      "cell_type": "markdown",
      "source": [
        "Save model"
      ],
      "metadata": {
        "id": "-GQXuh6G9Yph"
      }
    },
    {
      "cell_type": "code",
      "source": [
        "elm.save(\"elm_model.h5\") # Save model using elm.save()\n",
        "joblib.dump(scaler, \"scaler.pkl\")\n",
        "joblib.dump(encoder, \"encoder.pkl\")"
      ],
      "metadata": {
        "colab": {
          "base_uri": "https://localhost:8080/"
        },
        "id": "3gC5jkN47zpl",
        "outputId": "1ad3d860-55b3-40a8-93d6-7158f2edc557"
      },
      "execution_count": 84,
      "outputs": [
        {
          "output_type": "execute_result",
          "data": {
            "text/plain": [
              "['encoder.pkl']"
            ]
          },
          "metadata": {},
          "execution_count": 84
        }
      ]
    },
    {
      "cell_type": "code",
      "source": [],
      "metadata": {
        "id": "ZYZJheq399Jf"
      },
      "execution_count": null,
      "outputs": []
    }
  ]
}