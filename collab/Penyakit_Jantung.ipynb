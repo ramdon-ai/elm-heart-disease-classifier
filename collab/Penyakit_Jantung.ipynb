{
  "nbformat": 4,
  "nbformat_minor": 0,
  "metadata": {
    "colab": {
      "provenance": []
    },
    "kernelspec": {
      "name": "python3",
      "display_name": "Python 3"
    },
    "language_info": {
      "name": "python"
    }
  },
  "cells": [
    {
      "cell_type": "markdown",
      "source": [
        "#Install Library"
      ],
      "metadata": {
        "id": "AHt74k0u5ZE5"
      }
    },
    {
      "cell_type": "markdown",
      "source": [
        "Install library yang dibutuhkan"
      ],
      "metadata": {
        "id": "TnsQvly-59Gc"
      }
    },
    {
      "cell_type": "code",
      "source": [
        "!pip install hpelm scikit-learn pandas openpyxl matplotlib\n",
        "!pip install numpy==1.23.5"
      ],
      "metadata": {
        "colab": {
          "base_uri": "https://localhost:8080/",
          "height": 1000
        },
        "id": "roW2nFqCr9CB",
        "outputId": "50f5981a-3acd-4507-d982-ced5e6393ec3"
      },
      "execution_count": null,
      "outputs": [
        {
          "output_type": "stream",
          "name": "stdout",
          "text": [
            "Collecting hpelm\n",
            "  Downloading hpelm-1.0.10-py3-none-any.whl.metadata (2.9 kB)\n",
            "Requirement already satisfied: scikit-learn in /usr/local/lib/python3.11/dist-packages (1.6.1)\n",
            "Requirement already satisfied: pandas in /usr/local/lib/python3.11/dist-packages (2.2.2)\n",
            "Requirement already satisfied: openpyxl in /usr/local/lib/python3.11/dist-packages (3.1.5)\n",
            "Requirement already satisfied: matplotlib in /usr/local/lib/python3.11/dist-packages (3.10.0)\n",
            "Collecting fasteners (from hpelm)\n",
            "  Downloading fasteners-0.19-py3-none-any.whl.metadata (4.9 kB)\n",
            "Collecting nose (from hpelm)\n",
            "  Downloading nose-1.3.7-py3-none-any.whl.metadata (1.7 kB)\n",
            "Requirement already satisfied: numpy in /usr/local/lib/python3.11/dist-packages (from hpelm) (2.0.2)\n",
            "Requirement already satisfied: scipy>=0.12 in /usr/local/lib/python3.11/dist-packages (from hpelm) (1.15.3)\n",
            "Requirement already satisfied: six in /usr/local/lib/python3.11/dist-packages (from hpelm) (1.17.0)\n",
            "Requirement already satisfied: tables in /usr/local/lib/python3.11/dist-packages (from hpelm) (3.10.2)\n",
            "Requirement already satisfied: joblib>=1.2.0 in /usr/local/lib/python3.11/dist-packages (from scikit-learn) (1.5.1)\n",
            "Requirement already satisfied: threadpoolctl>=3.1.0 in /usr/local/lib/python3.11/dist-packages (from scikit-learn) (3.6.0)\n",
            "Requirement already satisfied: python-dateutil>=2.8.2 in /usr/local/lib/python3.11/dist-packages (from pandas) (2.9.0.post0)\n",
            "Requirement already satisfied: pytz>=2020.1 in /usr/local/lib/python3.11/dist-packages (from pandas) (2025.2)\n",
            "Requirement already satisfied: tzdata>=2022.7 in /usr/local/lib/python3.11/dist-packages (from pandas) (2025.2)\n",
            "Requirement already satisfied: et-xmlfile in /usr/local/lib/python3.11/dist-packages (from openpyxl) (2.0.0)\n",
            "Requirement already satisfied: contourpy>=1.0.1 in /usr/local/lib/python3.11/dist-packages (from matplotlib) (1.3.2)\n",
            "Requirement already satisfied: cycler>=0.10 in /usr/local/lib/python3.11/dist-packages (from matplotlib) (0.12.1)\n",
            "Requirement already satisfied: fonttools>=4.22.0 in /usr/local/lib/python3.11/dist-packages (from matplotlib) (4.58.1)\n",
            "Requirement already satisfied: kiwisolver>=1.3.1 in /usr/local/lib/python3.11/dist-packages (from matplotlib) (1.4.8)\n",
            "Requirement already satisfied: packaging>=20.0 in /usr/local/lib/python3.11/dist-packages (from matplotlib) (24.2)\n",
            "Requirement already satisfied: pillow>=8 in /usr/local/lib/python3.11/dist-packages (from matplotlib) (11.2.1)\n",
            "Requirement already satisfied: pyparsing>=2.3.1 in /usr/local/lib/python3.11/dist-packages (from matplotlib) (3.2.3)\n",
            "Requirement already satisfied: numexpr>=2.6.2 in /usr/local/lib/python3.11/dist-packages (from tables->hpelm) (2.10.2)\n",
            "Requirement already satisfied: py-cpuinfo in /usr/local/lib/python3.11/dist-packages (from tables->hpelm) (9.0.0)\n",
            "Requirement already satisfied: blosc2>=2.3.0 in /usr/local/lib/python3.11/dist-packages (from tables->hpelm) (3.3.4)\n",
            "Requirement already satisfied: typing-extensions>=4.4.0 in /usr/local/lib/python3.11/dist-packages (from tables->hpelm) (4.14.0)\n",
            "Requirement already satisfied: ndindex in /usr/local/lib/python3.11/dist-packages (from blosc2>=2.3.0->tables->hpelm) (1.10.0)\n",
            "Requirement already satisfied: msgpack in /usr/local/lib/python3.11/dist-packages (from blosc2>=2.3.0->tables->hpelm) (1.1.0)\n",
            "Requirement already satisfied: platformdirs in /usr/local/lib/python3.11/dist-packages (from blosc2>=2.3.0->tables->hpelm) (4.3.8)\n",
            "Requirement already satisfied: requests in /usr/local/lib/python3.11/dist-packages (from blosc2>=2.3.0->tables->hpelm) (2.32.3)\n",
            "Requirement already satisfied: charset-normalizer<4,>=2 in /usr/local/lib/python3.11/dist-packages (from requests->blosc2>=2.3.0->tables->hpelm) (3.4.2)\n",
            "Requirement already satisfied: idna<4,>=2.5 in /usr/local/lib/python3.11/dist-packages (from requests->blosc2>=2.3.0->tables->hpelm) (3.10)\n",
            "Requirement already satisfied: urllib3<3,>=1.21.1 in /usr/local/lib/python3.11/dist-packages (from requests->blosc2>=2.3.0->tables->hpelm) (2.4.0)\n",
            "Requirement already satisfied: certifi>=2017.4.17 in /usr/local/lib/python3.11/dist-packages (from requests->blosc2>=2.3.0->tables->hpelm) (2025.4.26)\n",
            "Downloading hpelm-1.0.10-py3-none-any.whl (50 kB)\n",
            "\u001b[2K   \u001b[90m━━━━━━━━━━━━━━━━━━━━━━━━━━━━━━━━━━━━━━━━\u001b[0m \u001b[32m50.0/50.0 kB\u001b[0m \u001b[31m1.8 MB/s\u001b[0m eta \u001b[36m0:00:00\u001b[0m\n",
            "\u001b[?25hDownloading fasteners-0.19-py3-none-any.whl (18 kB)\n",
            "Downloading nose-1.3.7-py3-none-any.whl (154 kB)\n",
            "\u001b[2K   \u001b[90m━━━━━━━━━━━━━━━━━━━━━━━━━━━━━━━━━━━━━━━━\u001b[0m \u001b[32m154.7/154.7 kB\u001b[0m \u001b[31m5.5 MB/s\u001b[0m eta \u001b[36m0:00:00\u001b[0m\n",
            "\u001b[?25hInstalling collected packages: nose, fasteners, hpelm\n",
            "Successfully installed fasteners-0.19 hpelm-1.0.10 nose-1.3.7\n",
            "Collecting numpy==1.23.5\n",
            "  Downloading numpy-1.23.5-cp311-cp311-manylinux_2_17_x86_64.manylinux2014_x86_64.whl.metadata (2.3 kB)\n",
            "Downloading numpy-1.23.5-cp311-cp311-manylinux_2_17_x86_64.manylinux2014_x86_64.whl (17.1 MB)\n",
            "\u001b[2K   \u001b[90m━━━━━━━━━━━━━━━━━━━━━━━━━━━━━━━━━━━━━━━━\u001b[0m \u001b[32m17.1/17.1 MB\u001b[0m \u001b[31m91.3 MB/s\u001b[0m eta \u001b[36m0:00:00\u001b[0m\n",
            "\u001b[?25hInstalling collected packages: numpy\n",
            "  Attempting uninstall: numpy\n",
            "    Found existing installation: numpy 2.0.2\n",
            "    Uninstalling numpy-2.0.2:\n",
            "      Successfully uninstalled numpy-2.0.2\n",
            "\u001b[31mERROR: pip's dependency resolver does not currently take into account all the packages that are installed. This behaviour is the source of the following dependency conflicts.\n",
            "jax 0.5.2 requires numpy>=1.25, but you have numpy 1.23.5 which is incompatible.\n",
            "chex 0.1.89 requires numpy>=1.24.1, but you have numpy 1.23.5 which is incompatible.\n",
            "imbalanced-learn 0.13.0 requires numpy<3,>=1.24.3, but you have numpy 1.23.5 which is incompatible.\n",
            "db-dtypes 1.4.3 requires numpy>=1.24.0, but you have numpy 1.23.5 which is incompatible.\n",
            "jaxlib 0.5.1 requires numpy>=1.25, but you have numpy 1.23.5 which is incompatible.\n",
            "xarray 2025.3.1 requires numpy>=1.24, but you have numpy 1.23.5 which is incompatible.\n",
            "xarray-einstats 0.9.0 requires numpy>=1.25, but you have numpy 1.23.5 which is incompatible.\n",
            "blosc2 3.3.4 requires numpy>=1.26, but you have numpy 1.23.5 which is incompatible.\n",
            "scikit-image 0.25.2 requires numpy>=1.24, but you have numpy 1.23.5 which is incompatible.\n",
            "albumentations 2.0.8 requires numpy>=1.24.4, but you have numpy 1.23.5 which is incompatible.\n",
            "tensorflow 2.18.0 requires numpy<2.1.0,>=1.26.0, but you have numpy 1.23.5 which is incompatible.\n",
            "treescope 0.1.9 requires numpy>=1.25.2, but you have numpy 1.23.5 which is incompatible.\n",
            "bigframes 2.5.0 requires numpy>=1.24.0, but you have numpy 1.23.5 which is incompatible.\n",
            "pymc 5.23.0 requires numpy>=1.25.0, but you have numpy 1.23.5 which is incompatible.\n",
            "thinc 8.3.6 requires numpy<3.0.0,>=2.0.0, but you have numpy 1.23.5 which is incompatible.\n",
            "albucore 0.0.24 requires numpy>=1.24.4, but you have numpy 1.23.5 which is incompatible.\u001b[0m\u001b[31m\n",
            "\u001b[0mSuccessfully installed numpy-1.23.5\n"
          ]
        },
        {
          "output_type": "display_data",
          "data": {
            "application/vnd.colab-display-data+json": {
              "pip_warning": {
                "packages": [
                  "numpy"
                ]
              },
              "id": "0b26a4f3f6fd448ba3adb51b2a29b9ef"
            }
          },
          "metadata": {}
        }
      ]
    },
    {
      "cell_type": "markdown",
      "source": [
        "Import library yang akan digunakan"
      ],
      "metadata": {
        "id": "uZjlLxSq6DzF"
      }
    },
    {
      "cell_type": "code",
      "source": [
        "!pip install elm"
      ],
      "metadata": {
        "colab": {
          "base_uri": "https://localhost:8080/"
        },
        "id": "SSNdWhrfxL3x",
        "outputId": "c90df647-b86c-4076-dae1-7d13089ee810"
      },
      "execution_count": null,
      "outputs": [
        {
          "output_type": "stream",
          "name": "stdout",
          "text": [
            "Collecting elm\n",
            "  Downloading elm-0.1.3-py2.py3-none-any.whl.metadata (2.4 kB)\n",
            "Collecting numpy==1.15.4 (from elm)\n",
            "  Downloading numpy-1.15.4.zip (4.5 MB)\n",
            "\u001b[2K     \u001b[90m━━━━━━━━━━━━━━━━━━━━━━━━━━━━━━━━━━━━━━━━\u001b[0m \u001b[32m4.5/4.5 MB\u001b[0m \u001b[31m28.0 MB/s\u001b[0m eta \u001b[36m0:00:00\u001b[0m\n",
            "\u001b[?25h  Preparing metadata (setup.py) ... \u001b[?25l\u001b[?25hdone\n",
            "Collecting deap==1.2.2 (from elm)\n",
            "  Downloading deap-1.2.2.tar.gz (936 kB)\n",
            "\u001b[2K     \u001b[90m━━━━━━━━━━━━━━━━━━━━━━━━━━━━━━━━━━━━━━\u001b[0m \u001b[32m936.6/936.6 kB\u001b[0m \u001b[31m29.7 MB/s\u001b[0m eta \u001b[36m0:00:00\u001b[0m\n",
            "\u001b[?25h  \u001b[1;31merror\u001b[0m: \u001b[1msubprocess-exited-with-error\u001b[0m\n",
            "  \n",
            "  \u001b[31m×\u001b[0m \u001b[32mpython setup.py egg_info\u001b[0m did not run successfully.\n",
            "  \u001b[31m│\u001b[0m exit code: \u001b[1;36m1\u001b[0m\n",
            "  \u001b[31m╰─>\u001b[0m See above for output.\n",
            "  \n",
            "  \u001b[1;35mnote\u001b[0m: This error originates from a subprocess, and is likely not a problem with pip.\n",
            "  Preparing metadata (setup.py) ... \u001b[?25l\u001b[?25herror\n",
            "\u001b[1;31merror\u001b[0m: \u001b[1mmetadata-generation-failed\u001b[0m\n",
            "\n",
            "\u001b[31m×\u001b[0m Encountered error while generating package metadata.\n",
            "\u001b[31m╰─>\u001b[0m See above for output.\n",
            "\n",
            "\u001b[1;35mnote\u001b[0m: This is an issue with the package mentioned above, not pip.\n",
            "\u001b[1;36mhint\u001b[0m: See above for details.\n"
          ]
        }
      ]
    },
    {
      "cell_type": "code",
      "source": [
        "import pandas as pd\n",
        "import numpy as np\n",
        "from sklearn.model_selection import train_test_split\n",
        "from sklearn.preprocessing import StandardScaler, OneHotEncoder\n",
        "from sklearn.metrics import accuracy_score, classification_report, confusion_matrix\n",
        "from imblearn.over_sampling import SMOTE\n",
        "from hpelm import ELM\n",
        "import joblib\n",
        "import seaborn as sns\n",
        "import matplotlib.pyplot as plt"
      ],
      "metadata": {
        "id": "CrO9vyjmOwvm"
      },
      "execution_count": null,
      "outputs": []
    },
    {
      "cell_type": "markdown",
      "source": [
        "#Load & Preprocessing Data"
      ],
      "metadata": {
        "id": "_OXSUzj35mgr"
      }
    },
    {
      "cell_type": "markdown",
      "source": [
        "Load data yang akan diproses"
      ],
      "metadata": {
        "id": "DxjAW5hL6O-H"
      }
    },
    {
      "cell_type": "code",
      "source": [
        "file_path = \"/content/Data Baru revisilagi.xlsx\"  # Tentukan path file Excel yang akan dibaca\n",
        "df = pd.read_excel(file_path, header=3)  # Baca file Excel mulai dari baris ke-4 (index 3), lalu hapus baris yang mengandung nilai kosong (NaN)"
      ],
      "metadata": {
        "id": "mH_657h7nYqf"
      },
      "execution_count": null,
      "outputs": []
    },
    {
      "cell_type": "markdown",
      "source": [
        "Cek kolom untuk memastikan data yang akan diproses"
      ],
      "metadata": {
        "id": "nN6aEwIi6gtY"
      }
    },
    {
      "cell_type": "code",
      "source": [
        "print(df)"
      ],
      "metadata": {
        "colab": {
          "base_uri": "https://localhost:8080/"
        },
        "id": "tZ6yLK62naYr",
        "outputId": "a06ee6b8-e89c-4034-c390-45c96df8bdd8"
      },
      "execution_count": null,
      "outputs": [
        {
          "output_type": "stream",
          "name": "stdout",
          "text": [
            "      No  Umur  Jenis Kelamin  Nyeri Dada Saat Beraktivitas  Tekanan Darah  \\\n",
            "0      1    37              2                             3            130   \n",
            "1      2    41              1                             1            130   \n",
            "2      3    56              2                             1            120   \n",
            "3      4    57              1                             4            120   \n",
            "4      5    57              2                             3            140   \n",
            "..   ...   ...            ...                           ...            ...   \n",
            "516  517    52              2                             1            118   \n",
            "517  518    59              2                             1            160   \n",
            "518  519    59              2                             1            134   \n",
            "519  520    45              2                             1            110   \n",
            "520  521    58              1                             1            121   \n",
            "\n",
            "     Kadar Kolesterol  Gula Darah  Hasil Uji EKG  Denyut Jantung  \\\n",
            "0                 250           0              0             187   \n",
            "1                 204           0              2             172   \n",
            "2                 236           0              0             178   \n",
            "3                 354           0              0             163   \n",
            "4                 235           0              0             148   \n",
            "..                ...         ...            ...             ...   \n",
            "516               186           0              2             190   \n",
            "517               273           0              2             125   \n",
            "518               204           0              0             162   \n",
            "519               264           0              0             132   \n",
            "520               158           1              0             106   \n",
            "\n",
            "     Sakit Dada Selama Beraktivitas  Atribut Hasil Prediksi Penyakit Jantung  \\\n",
            "0                                 1                                        3   \n",
            "1                                 0                                        1   \n",
            "2                                 0                                        1   \n",
            "3                                 1                                        4   \n",
            "4                                 0                                        3   \n",
            "..                              ...                                      ...   \n",
            "516                               0                                        0   \n",
            "517                               0                                        0   \n",
            "518                               1                                        0   \n",
            "519                               0                                        0   \n",
            "520                               0                                        0   \n",
            "\n",
            "     Prediksi  \n",
            "0           3  \n",
            "1           1  \n",
            "2           1  \n",
            "3           4  \n",
            "4           3  \n",
            "..        ...  \n",
            "516         0  \n",
            "517         0  \n",
            "518         0  \n",
            "519         0  \n",
            "520         0  \n",
            "\n",
            "[521 rows x 12 columns]\n"
          ]
        }
      ]
    },
    {
      "cell_type": "markdown",
      "source": [
        "Hapus kolom 'No' karena bukan termasuk data prediktif"
      ],
      "metadata": {
        "id": "vTFNZInN6wCb"
      }
    },
    {
      "cell_type": "code",
      "source": [
        "df = df.drop(columns=[\"No\"])"
      ],
      "metadata": {
        "id": "e0suDCiOw-rB"
      },
      "execution_count": null,
      "outputs": []
    },
    {
      "cell_type": "markdown",
      "source": [
        "Ubah data 'Jenis Kelamin' kedalam bentuk biner"
      ],
      "metadata": {
        "id": "JCsONxqb7N5y"
      }
    },
    {
      "cell_type": "code",
      "source": [
        "df['Jenis Kelamin'] = df['Jenis Kelamin'].replace({1: 0, 2: 1})"
      ],
      "metadata": {
        "id": "mr5GGosCpHdU"
      },
      "execution_count": null,
      "outputs": []
    },
    {
      "cell_type": "markdown",
      "source": [
        "Menentukan target untuk memprediksi"
      ],
      "metadata": {
        "id": "vqxwMbrS7ds1"
      }
    },
    {
      "cell_type": "code",
      "source": [
        "X = df.drop(columns=[\"Prediksi\"])\n",
        "y = df[\"Prediksi\"]"
      ],
      "metadata": {
        "id": "pTEml_nupga9"
      },
      "execution_count": null,
      "outputs": []
    },
    {
      "cell_type": "markdown",
      "source": [
        "Preprocessing data jika target bukan numerik, encode ke angka"
      ],
      "metadata": {
        "id": "cBQyTetg7x88"
      }
    },
    {
      "cell_type": "markdown",
      "source": [
        "Membagi data training 70% dan data testing 30%"
      ],
      "metadata": {
        "id": "Bl8-2Ofq8CDn"
      }
    },
    {
      "cell_type": "code",
      "source": [
        "X_train, X_test, y_train, y_test = train_test_split(X, y,\n",
        "                                                    test_size=0.3,\n",
        "                                                    random_state=42,\n",
        "                                                    stratify=y)"
      ],
      "metadata": {
        "id": "YnLUYtsCIZ9K"
      },
      "execution_count": null,
      "outputs": []
    },
    {
      "cell_type": "markdown",
      "source": [
        "Normalisasi data agar lebih optimal"
      ],
      "metadata": {
        "id": "4ObGb0ij8Sbu"
      }
    },
    {
      "cell_type": "code",
      "source": [
        "scaler = StandardScaler().fit(X_train)\n",
        "X_train_scaled = scaler.transform(X_train)\n",
        "X_test_scaled = scaler.transform(X_test)"
      ],
      "metadata": {
        "id": "jf4gGUTvpivi"
      },
      "execution_count": null,
      "outputs": []
    },
    {
      "cell_type": "code",
      "source": [
        "sm = SMOTE(random_state=42)\n",
        "X_train_smote, y_train_smote = sm.fit_resample(X_train_scaled,\n",
        "                                               y_train)"
      ],
      "metadata": {
        "id": "46ciEZOFIT3H"
      },
      "execution_count": null,
      "outputs": []
    },
    {
      "cell_type": "markdown",
      "source": [
        "Mengubah label target menjadi bentuk numerik biner (one-hot) agar bisa digunakan oleh model ELM untuk klasifikasi."
      ],
      "metadata": {
        "id": "3s6jN7ps87wP"
      }
    },
    {
      "cell_type": "code",
      "source": [
        "encoder = OneHotEncoder(sparse_output=False)\n",
        "y_train_encoded = encoder.fit_transform(\n",
        "                  y_train_smote.values.reshape(-1, 1))"
      ],
      "metadata": {
        "id": "hc4OJC7yIp6C"
      },
      "execution_count": null,
      "outputs": []
    },
    {
      "cell_type": "markdown",
      "source": [
        "#Implementasi model ELM"
      ],
      "metadata": {
        "id": "EJIxlEZl9GrP"
      }
    },
    {
      "cell_type": "markdown",
      "source": [
        "Traning model ELM"
      ],
      "metadata": {
        "id": "PZMz84DY9l19"
      }
    },
    {
      "cell_type": "code",
      "source": [
        "elm = ELM(X_train_scaled.shape[1],\n",
        "          y_train_encoded.shape[1],\n",
        "          classification=\"c\")\n",
        "elm.add_neurons(100, \"sigm\")\n",
        "elm.train(X_train_smote, y_train_encoded)"
      ],
      "metadata": {
        "id": "UJWmydmIIxf4"
      },
      "execution_count": null,
      "outputs": []
    },
    {
      "cell_type": "markdown",
      "source": [
        "Prediksi & evaluasi model ELM"
      ],
      "metadata": {
        "id": "SQ6GRy679Jzl"
      }
    },
    {
      "cell_type": "code",
      "source": [
        "y_pred = elm.predict(X_test_scaled).argmax(axis=1)\n",
        "y_test_encoded = encoder.transform(\n",
        "                 y_test.values.reshape(-1, 1)).argmax(axis=1)"
      ],
      "metadata": {
        "id": "MqE3yQcLI7VG"
      },
      "execution_count": null,
      "outputs": []
    },
    {
      "cell_type": "code",
      "source": [
        "print(\"Akurasi:\", accuracy_score(y_test_encoded, y_pred))\n",
        "print(\"\\nClassification Report:\")\n",
        "print(classification_report(y_test_encoded, y_pred))"
      ],
      "metadata": {
        "colab": {
          "base_uri": "https://localhost:8080/"
        },
        "id": "AKeKUYKmJBVU",
        "outputId": "a68e3a31-3231-4eda-818c-333e3b651b97"
      },
      "execution_count": null,
      "outputs": [
        {
          "output_type": "stream",
          "name": "stdout",
          "text": [
            "Akurasi: 0.7643312101910829\n",
            "\n",
            "Classification Report:\n",
            "              precision    recall  f1-score   support\n",
            "\n",
            "           0       0.93      1.00      0.96        27\n",
            "           1       0.81      0.79      0.80        28\n",
            "           2       0.61      0.71      0.66        31\n",
            "           3       0.66      0.57      0.61        37\n",
            "           4       0.85      0.82      0.84        34\n",
            "\n",
            "    accuracy                           0.76       157\n",
            "   macro avg       0.77      0.78      0.77       157\n",
            "weighted avg       0.76      0.76      0.76       157\n",
            "\n"
          ]
        }
      ]
    },
    {
      "cell_type": "markdown",
      "source": [
        "Save model"
      ],
      "metadata": {
        "id": "-GQXuh6G9Yph"
      }
    },
    {
      "cell_type": "code",
      "source": [
        "cm = confusion_matrix(y_test_encoded, y_pred)\n",
        "plt.figure(figsize=(6, 5))\n",
        "sns.heatmap(cm, annot=True, fmt=\"d\", cmap=\"Blues\")\n",
        "plt.xlabel(\"Prediksi\")\n",
        "plt.ylabel(\"Aktual\")\n",
        "plt.title(\"Confusion Matrix\")\n",
        "plt.show()"
      ],
      "metadata": {
        "colab": {
          "base_uri": "https://localhost:8080/",
          "height": 487
        },
        "id": "xb6_6eFNP1wb",
        "outputId": "78683927-7fc2-43b7-ac56-dd77b6ae8e68"
      },
      "execution_count": null,
      "outputs": [
        {
          "output_type": "display_data",
          "data": {
            "text/plain": [
              "<Figure size 600x500 with 2 Axes>"
            ],
            "image/png": "[encoded data removed]"
          },
          "metadata": {}
        }
      ]
    },
    {
      "cell_type": "code",
      "source": [
        "elm.save(\"elm_model.h5\") # Save model using elm.save()\n",
        "joblib.dump(scaler, \"scaler.pkl\")\n",
        "joblib.dump(encoder, \"encoder.pkl\")"
      ],
      "metadata": {
        "colab": {
          "base_uri": "https://localhost:8080/"
        },
        "id": "3gC5jkN47zpl",
        "outputId": "94befdb5-9df7-4a12-ba96-fadf007f7370"
      },
      "execution_count": null,
      "outputs": [
        {
          "output_type": "execute_result",
          "data": {
            "text/plain": [
              "['encoder.pkl']"
            ]
          },
          "metadata": {},
          "execution_count": 15
        }
      ]
    },
    {
      "cell_type": "code",
      "source": [
        "# Lihat distribusi kelas di dataset asli\n",
        "print(\"Distribusi Kelas (Total):\")\n",
        "print(y.value_counts())\n",
        "print()\n",
        "\n",
        "# Lihat distribusi kelas pada data training\n",
        "print(\"Distribusi Kelas (Training):\")\n",
        "print(y_train.value_counts())\n",
        "print()\n",
        "\n",
        "# Lihat distribusi kelas pada data testing\n",
        "print(\"Distribusi Kelas (Testing):\")\n",
        "print(y_test.value_counts())"
      ],
      "metadata": {
        "id": "d2oBxonCP0-E",
        "colab": {
          "base_uri": "https://localhost:8080/"
        },
        "outputId": "931252f3-2e3f-4717-ad41-d634fc5ac468"
      },
      "execution_count": null,
      "outputs": [
        {
          "output_type": "stream",
          "name": "stdout",
          "text": [
            "Distribusi Kelas (Total):\n",
            "Prediksi\n",
            "3    123\n",
            "4    113\n",
            "2    101\n",
            "1     93\n",
            "0     91\n",
            "Name: count, dtype: int64\n",
            "\n",
            "Distribusi Kelas (Training):\n",
            "Prediksi\n",
            "3    86\n",
            "4    79\n",
            "2    70\n",
            "1    65\n",
            "0    64\n",
            "Name: count, dtype: int64\n",
            "\n",
            "Distribusi Kelas (Testing):\n",
            "Prediksi\n",
            "3    37\n",
            "4    34\n",
            "2    31\n",
            "1    28\n",
            "0    27\n",
            "Name: count, dtype: int64\n"
          ]
        }
      ]
    },
    {
      "cell_type": "code",
      "source": [
        "from sklearn.metrics import confusion_matrix\n",
        "import matplotlib.pyplot as plt\n",
        "import seaborn as sns\n",
        "\n",
        "# Buat confusion matrix\n",
        "cm = confusion_matrix(y_test, y_pred)\n",
        "\n",
        "# Plot\n",
        "plt.figure(figsize=(6, 5))\n",
        "sns.heatmap(cm, annot=True, fmt=\"d\", cmap=\"Blues\",\n",
        "            xticklabels=encoder.categories_[0],\n",
        "            yticklabels=encoder.categories_[0])\n",
        "plt.xlabel(\"Predicted\")\n",
        "plt.ylabel(\"Actual\")\n",
        "plt.title(\"Confusion Matrix\")\n",
        "plt.show()"
      ],
      "metadata": {
        "id": "ZYZJheq399Jf",
        "colab": {
          "base_uri": "https://localhost:8080/",
          "height": 487
        },
        "outputId": "5851a065-316b-45a9-86ce-f931d727624c"
      },
      "execution_count": null,
      "outputs": [
        {
          "output_type": "display_data",
          "data": {
            "text/plain": [
              "<Figure size 600x500 with 2 Axes>"
            ],
            "image/png": "[encoded data removed]"
          },
          "metadata": {}
        }
      ]
    },
    {
      "cell_type": "code",
      "source": [
        "from sklearn.metrics import confusion_matrix\n",
        "import matplotlib.pyplot as plt\n",
        "import seaborn as sns\n",
        "import numpy as np\n",
        "\n",
        "# Buat confusion matrix\n",
        "cm = confusion_matrix(y_test, y_pred)\n",
        "cm_percent = cm.astype('float') / cm.sum(axis=1)[:, np.newaxis] * 100  # konversi ke %\n",
        "\n",
        "# Plot confusion matrix\n",
        "plt.figure(figsize=(6, 5))\n",
        "sns.heatmap(cm_percent, annot=True, fmt=\".1f\", cmap=\"Blues\",\n",
        "            xticklabels=encoder.categories_[0],\n",
        "            yticklabels=encoder.categories_[0])\n",
        "plt.xlabel(\"Predicted\")\n",
        "plt.ylabel(\"Actual\")\n",
        "plt.title(\"Confusion Matrix (%)\")\n",
        "plt.show()\n"
      ],
      "metadata": {
        "id": "hhljlFSBSDu8",
        "outputId": "2dec7676-bb6d-4126-e362-f4f43098d291",
        "colab": {
          "base_uri": "https://localhost:8080/",
          "height": 487
        }
      },
      "execution_count": null,
      "outputs": [
        {
          "output_type": "display_data",
          "data": {
            "text/plain": [
              "<Figure size 600x500 with 2 Axes>"
            ],
            "image/png": "[encoded data removed]"
          },
          "metadata": {}
        }
      ]
    },
    {
      "cell_type": "code",
      "source": [],
      "metadata": {
        "id": "ZBl3h7LbSKDm"
      },
      "execution_count": null,
      "outputs": []
    }
  ]
}